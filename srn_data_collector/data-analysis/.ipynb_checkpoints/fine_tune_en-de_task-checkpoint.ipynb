{
 "cells": [
  {
   "cell_type": "code",
   "execution_count": 1,
   "id": "efd43341-523e-497f-bbe7-0bd519b6ad3d",
   "metadata": {},
   "outputs": [
    {
     "name": "stderr",
     "output_type": "stream",
     "text": [
      "/root/miniconda3/envs/llm_experiments/lib/python3.11/site-packages/tqdm/auto.py:21: TqdmWarning: IProgress not found. Please update jupyter and ipywidgets. See https://ipywidgets.readthedocs.io/en/stable/user_install.html\n",
      "  from .autonotebook import tqdm as notebook_tqdm\n"
     ]
    }
   ],
   "source": [
    "from datasets import load_dataset"
   ]
  },
  {
   "cell_type": "code",
   "execution_count": 3,
   "id": "3901eef6-47ef-4d1f-b77f-5321de9dd47d",
   "metadata": {},
   "outputs": [],
   "source": [
    "dataset = load_dataset(\"wmt20_mlqe_task1\", 'en-de')"
   ]
  },
  {
   "cell_type": "code",
   "execution_count": 7,
   "id": "1ccd831b-df3b-4ed1-9273-1fd59d1e77af",
   "metadata": {},
   "outputs": [
    {
     "data": {
      "text/plain": [
       "{'de': '1934 besuchte José Ortega y Gasset Husserl in Freiburg.',\n",
       " 'en': 'José Ortega y Gasset visited Husserl at Freiburg in 1934.'}"
      ]
     },
     "execution_count": 7,
     "metadata": {},
     "output_type": "execute_result"
    }
   ],
   "source": [
    "dataset['train'][0]['translation']"
   ]
  },
  {
   "cell_type": "code",
   "execution_count": 11,
   "id": "f0f25439-a51c-4e47-8864-20a1875fbe9d",
   "metadata": {},
   "outputs": [
    {
     "data": {
      "text/plain": [
       "(7000, 1000, 1000)"
      ]
     },
     "execution_count": 11,
     "metadata": {},
     "output_type": "execute_result"
    }
   ],
   "source": [
    "len(dataset['train']), len(dataset['validation']),len(dataset['test'])"
   ]
  },
  {
   "cell_type": "code",
   "execution_count": null,
   "id": "1aafa725-5922-45b1-812c-e82b79ae1027",
   "metadata": {},
   "outputs": [],
   "source": []
  },
  {
   "cell_type": "code",
   "execution_count": null,
   "id": "f8629c42-23f5-4f6b-9795-9d6058fb45fe",
   "metadata": {},
   "outputs": [],
   "source": []
  },
  {
   "cell_type": "code",
   "execution_count": null,
   "id": "3941c9f0-6233-4041-8023-40088b8165c7",
   "metadata": {},
   "outputs": [],
   "source": []
  }
 ],
 "metadata": {
  "kernelspec": {
   "display_name": "Python 3 (ipykernel)",
   "language": "python",
   "name": "python3"
  },
  "language_info": {
   "codemirror_mode": {
    "name": "ipython",
    "version": 3
   },
   "file_extension": ".py",
   "mimetype": "text/x-python",
   "name": "python",
   "nbconvert_exporter": "python",
   "pygments_lexer": "ipython3",
   "version": "3.11.5"
  }
 },
 "nbformat": 4,
 "nbformat_minor": 5
}
