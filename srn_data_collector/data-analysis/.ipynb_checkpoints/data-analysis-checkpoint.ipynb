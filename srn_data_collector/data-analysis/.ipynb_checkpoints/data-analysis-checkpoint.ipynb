{
 "cells": [
  {
   "cell_type": "code",
   "execution_count": 3,
   "id": "ec2de24d-ab9d-413a-b376-0cb24c5c5b2a",
   "metadata": {},
   "outputs": [],
   "source": [
    "from srn_data_collector.annotations_utils.data_model import (\n",
    "    Base,\n",
    "    BlobLvlAnnotations,\n",
    "    BlobLvlAnnotationsModel,\n",
    "    CompanyDetailsModel,\n",
    "    CompanyDetailsTable,\n",
    "    ComplianceItems,\n",
    "    ComplianceItemsModel,\n",
    "    DocumentInstances,\n",
    "    DocumentInstancesModel,\n",
    "    Indices,\n",
    "    IndicesModel,\n",
    "    ReportingRequirements,\n",
    "    ReportingRequirementsModel,\n",
    "    RptRequirementsMapping,\n",
    "    RptRequirementsMappingModel,\n",
    "    StandardsList,\n",
    "    StandardsListModel,\n",
    "    ValuesWithRevisions,\n",
    "    ValuesWithRevisionsModel,\n",
    ")"
   ]
  },
  {
   "cell_type": "code",
   "execution_count": 7,
   "id": "9614c82b-c415-41fd-a82a-37143df5ed56",
   "metadata": {},
   "outputs": [],
   "source": [
    "db_path = \"/cluster/home/repo/my_llm_experiments/esrs_data_collection/srn_data_collector/main_nov26_bkp.db\""
   ]
  },
  {
   "cell_type": "code",
   "execution_count": 8,
   "id": "337d7929-1a09-4725-b4d2-ff8cccc01944",
   "metadata": {},
   "outputs": [
    {
     "name": "stdout",
     "output_type": "stream",
     "text": [
      "('2ba22a1f-cd7b-454f-ba2d-aa7ae7ceb262', 'esrs', 'ESRS E1', '01b34b13-1f30-4f5d-bb32-473b9b2935e4', 'E1.AR40', 'breakdown of Scope 1 GHG emissions for the reporting period by operating segment', '82 and 90', '95df1d10-26ac-4bc2-a4b5-41f1698cac24', '1&1', 'https://imagepool.1und1.ag/v2/download/nachhaltigkeitsbericht/1und1-AG_NB_2022_EN.pdf', 'emissions of office buildings 1786,9 ,  company vehicles 839,2', '2022\\n2021\\n2020(5)\\nFuel consumption (petrol and diesel) in litres\\n320,923\\n279,403\\n316,602\\nFuel consumption per company vehicle in litres(2)\\n1, ... (65 characters truncated) ... \\n3,730,403\\n4,560,813\\nKilometres travelled per company vehicle\\n20,560\\n16,219\\n21,412\\nCO2 equivalents in tonnes(4) (Scope 1)\\n839.2\\n730.9\\n829.2', 'table', 6, '82 and 90')\n"
     ]
    }
   ],
   "source": [
    "from sqlalchemy.orm import aliased\n",
    "from sqlalchemy import create_engine, select, text\n",
    "from sqlalchemy.orm import Session\n",
    "\n",
    "# Assume you have an SQLAlchemy engine already created\n",
    "engine = create_engine(f\"sqlite:///{db_path}\")\n",
    "\n",
    "# Define the SQLAlchemy models\n",
    "fvwr = aliased(ValuesWithRevisions)\n",
    "dci = aliased(ComplianceItems)\n",
    "drr = aliased(ReportingRequirements)\n",
    "dcd = aliased(CompanyDetailsTable)\n",
    "ddi = aliased(DocumentInstances)\n",
    "dbla = aliased(BlobLvlAnnotations)\n",
    "mrrsl = aliased(RptRequirementsMapping)\n",
    "dsl = aliased(StandardsList)\n",
    "\n",
    "# Build the SQLAlchemy query\n",
    "stmt = select(\n",
    "        fvwr.id.label('REVISION_ID'),\n",
    "        dsl.family.label('STD_FAMILY'),\n",
    "        dsl.name.label('STD_NAME'),\n",
    "        mrrsl.id.label('SOURCE_ID'),\n",
    "        mrrsl.source.label('REQ_SECTION'),\n",
    "        dci.name.label('COMPLIANCE_ITEM_NAME'),\n",
    "        fvwr.document_ref.label('DOC_PAGE_NO'),\n",
    "        fvwr.document_id,\n",
    "        dcd.name.label('COMPANY_NAME'),\n",
    "        ddi.href.label('DOC_HREF'),\n",
    "        fvwr.value.label('ORIGINAL_ANNOTATION_TEXT'),\n",
    "        dbla.blob_text.label('PARSED_DOC_BLOB_TEXT'),\n",
    "        dbla.blob_class_name,\n",
    "        dbla.blob_id.label('BLOB_ID'),\n",
    "        fvwr.document_ref.label('PAGE_NO'))\\\n",
    "        .join(dci, dci.id == fvwr.compliance_item_id)\\\n",
    "        .join(drr, drr.id == dci.reporting_requirement_id)\\\n",
    "        .join(dcd, dcd.id == fvwr.company_id)\\\n",
    "        .join(ddi, ddi.id == fvwr.document_id)\\\n",
    "        .join(dbla, dbla.revision_id == fvwr.id)\\\n",
    "        .join(mrrsl, drr.id == mrrsl.reporting_requirement_id)\\\n",
    "        .join(dsl, dsl.id == mrrsl.standard)\\\n",
    "        .where(dsl.family.like('%esrs%'))\n",
    "\n",
    "\n",
    "\n",
    "# Execute the query\n",
    "session = Session(engine)\n",
    "result = session.execute(stmt)\n",
    "\n",
    "# Fetch the results\n",
    "for row in result:\n",
    "    print(row)\n",
    "    break"
   ]
  },
  {
   "cell_type": "code",
   "execution_count": 22,
   "id": "d2fe1f5b-cb1b-478d-960c-e484440e9271",
   "metadata": {},
   "outputs": [
    {
     "ename": "ModuleNotFoundError",
     "evalue": "No module named 'maltplotlib'",
     "output_type": "error",
     "traceback": [
      "\u001b[0;31m---------------------------------------------------------------------------\u001b[0m",
      "\u001b[0;31mModuleNotFoundError\u001b[0m                       Traceback (most recent call last)",
      "Cell \u001b[0;32mIn[22], line 2\u001b[0m\n\u001b[1;32m      1\u001b[0m \u001b[38;5;28;01mfrom\u001b[39;00m \u001b[38;5;21;01msqlalchemy\u001b[39;00m \u001b[38;5;28;01mimport\u001b[39;00m func\n\u001b[0;32m----> 2\u001b[0m \u001b[38;5;28;01mimport\u001b[39;00m  \u001b[38;5;21;01mmaltplotlib\u001b[39;00m\u001b[38;5;21;01m.\u001b[39;00m\u001b[38;5;21;01mpyplot\u001b[39;00m \u001b[38;5;28;01mas\u001b[39;00m \u001b[38;5;21;01mplt\u001b[39;00m\n\u001b[1;32m      3\u001b[0m \u001b[38;5;28;01mimport\u001b[39;00m \u001b[38;5;21;01mnumpy\u001b[39;00m \u001b[38;5;28;01mas\u001b[39;00m \u001b[38;5;21;01mnp\u001b[39;00m\n\u001b[1;32m      5\u001b[0m results \u001b[38;5;241m=\u001b[39m session\u001b[38;5;241m.\u001b[39mquery(ddi\u001b[38;5;241m.\u001b[39myear, func\u001b[38;5;241m.\u001b[39mcount()\u001b[38;5;241m.\u001b[39mlabel(\u001b[38;5;124m'\u001b[39m\u001b[38;5;124mdocs_count\u001b[39m\u001b[38;5;124m'\u001b[39m))\u001b[38;5;241m.\u001b[39mgroup_by(ddi\u001b[38;5;241m.\u001b[39myear)\u001b[38;5;241m.\u001b[39mall()\n",
      "\u001b[0;31mModuleNotFoundError\u001b[0m: No module named 'maltplotlib'"
     ]
    }
   ],
   "source": [
    "from sqlalchemy import func\n",
    "import  maltplotlib.pyplot as plt\n",
    "import numpy as np\n",
    "\n",
    "results = session.query(ddi.year, func.count().label('docs_count')).group_by(ddi.year).all()\n",
    "\n",
    "\n",
    "# Extract age and user_count from the results\n",
    "year, docs_count = zip(*[(result.age, result.user_count) for result in results])\n",
    "\n",
    "# Plot the histogram\n",
    "plt.bar(year, docs_count, color='blue', alpha=0.7)\n",
    "plt.xlabel('Year')\n",
    "plt.ylabel('Docs Count')\n",
    "plt.title('Docs Count Distribution')\n",
    "plt.grid(axis='y', linestyle='--', alpha=0.7)\n",
    "\n",
    "# Show the plot\n",
    "plt.show()"
   ]
  },
  {
   "cell_type": "code",
   "execution_count": null,
   "id": "dd2efe49-26b5-42d9-972f-f189b167e233",
   "metadata": {},
   "outputs": [],
   "source": [
    "stmt = (\n",
    "    session.query(User.age, func.count().label('user_count'))\n",
    "    .group_by(User.age)\n",
    "    .order_by(User.age)\n",
    ")"
   ]
  },
  {
   "cell_type": "code",
   "execution_count": 15,
   "id": "d29f5c89-30d6-4548-9ab6-5d616c16b4e6",
   "metadata": {
    "scrolled": true
   },
   "outputs": [
    {
     "data": {
      "text/plain": [
       "['__abstract__',\n",
       " '__class__',\n",
       " '__delattr__',\n",
       " '__dict__',\n",
       " '__dir__',\n",
       " '__doc__',\n",
       " '__eq__',\n",
       " '__format__',\n",
       " '__ge__',\n",
       " '__getattribute__',\n",
       " '__getstate__',\n",
       " '__gt__',\n",
       " '__hash__',\n",
       " '__init__',\n",
       " '__init_subclass__',\n",
       " '__le__',\n",
       " '__lt__',\n",
       " '__mapper__',\n",
       " '__module__',\n",
       " '__ne__',\n",
       " '__new__',\n",
       " '__reduce__',\n",
       " '__reduce_ex__',\n",
       " '__repr__',\n",
       " '__setattr__',\n",
       " '__sizeof__',\n",
       " '__str__',\n",
       " '__subclasshook__',\n",
       " '__table__',\n",
       " '__tablename__',\n",
       " '__weakref__',\n",
       " '_sa_class_manager',\n",
       " '_sa_instance_state',\n",
       " '_sa_registry',\n",
       " 'company',\n",
       " 'company_id',\n",
       " 'created_at',\n",
       " 'created_by_info',\n",
       " 'href',\n",
       " 'id',\n",
       " 'metadata',\n",
       " 'name',\n",
       " 'registry',\n",
       " 'type',\n",
       " 'wz_storage_location',\n",
       " 'year']"
      ]
     },
     "execution_count": 15,
     "metadata": {},
     "output_type": "execute_result"
    }
   ],
   "source": [
    "dir(docs[0].year)"
   ]
  },
  {
   "cell_type": "code",
   "execution_count": null,
   "id": "955ca30b-f79f-4947-a638-7f93f6dbd5ce",
   "metadata": {},
   "outputs": [],
   "source": []
  }
 ],
 "metadata": {
  "kernelspec": {
   "display_name": "Python 3 (ipykernel)",
   "language": "python",
   "name": "python3"
  },
  "language_info": {
   "codemirror_mode": {
    "name": "ipython",
    "version": 3
   },
   "file_extension": ".py",
   "mimetype": "text/x-python",
   "name": "python",
   "nbconvert_exporter": "python",
   "pygments_lexer": "ipython3",
   "version": "3.11.5"
  }
 },
 "nbformat": 4,
 "nbformat_minor": 5
}
