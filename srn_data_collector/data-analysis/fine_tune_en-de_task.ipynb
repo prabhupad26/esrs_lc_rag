{
 "cells": [
  {
   "cell_type": "code",
   "execution_count": 1,
   "id": "efd43341-523e-497f-bbe7-0bd519b6ad3d",
   "metadata": {
    "scrolled": true
   },
   "outputs": [
    {
     "name": "stderr",
     "output_type": "stream",
     "text": [
      "/root/miniconda3/envs/llm_experiments/lib/python3.11/site-packages/tqdm/auto.py:21: TqdmWarning: IProgress not found. Please update jupyter and ipywidgets. See https://ipywidgets.readthedocs.io/en/stable/user_install.html\n",
      "  from .autonotebook import tqdm as notebook_tqdm\n"
     ]
    }
   ],
   "source": [
    "from datasets import load_dataset"
   ]
  },
  {
   "cell_type": "code",
   "execution_count": 3,
   "id": "3901eef6-47ef-4d1f-b77f-5321de9dd47d",
   "metadata": {},
   "outputs": [],
   "source": [
    "dataset = load_dataset(\"wmt20_mlqe_task1\", 'en-de')"
   ]
  },
  {
   "cell_type": "code",
   "execution_count": 7,
   "id": "1ccd831b-df3b-4ed1-9273-1fd59d1e77af",
   "metadata": {},
   "outputs": [
    {
     "data": {
      "text/plain": [
       "{'de': '1934 besuchte José Ortega y Gasset Husserl in Freiburg.',\n",
       " 'en': 'José Ortega y Gasset visited Husserl at Freiburg in 1934.'}"
      ]
     },
     "execution_count": 7,
     "metadata": {},
     "output_type": "execute_result"
    }
   ],
   "source": [
    "dataset['train'][0]['translation']"
   ]
  },
  {
   "cell_type": "code",
   "execution_count": 11,
   "id": "f0f25439-a51c-4e47-8864-20a1875fbe9d",
   "metadata": {},
   "outputs": [
    {
     "data": {
      "text/plain": [
       "(7000, 1000, 1000)"
      ]
     },
     "execution_count": 11,
     "metadata": {},
     "output_type": "execute_result"
    }
   ],
   "source": [
    "len(dataset['train']), len(dataset['validation']),len(dataset['test'])"
   ]
  },
  {
   "cell_type": "code",
   "execution_count": 12,
   "id": "1aafa725-5922-45b1-812c-e82b79ae1027",
   "metadata": {},
   "outputs": [
    {
     "name": "stderr",
     "output_type": "stream",
     "text": [
      "config.json: 100%|█████████████████████████████████████████████████████████████████████████████████████████████████████████████████| 3.44k/3.44k [00:00<00:00, 4.66MB/s]\n",
      "vocab.txt: 100%|█████████████████████████████████████████████████████████████████████████████████████████████████████████████████████| 269k/269k [00:00<00:00, 1.48MB/s]\n",
      "pytorch_model.bin: 100%|███████████████████████████████████████████████████████████████████████████████████████████████████████████| 3.09G/3.09G [01:15<00:00, 40.8MB/s]\n",
      "generation_config.json: 100%|███████████████████████████████████████████████████████████████████████████████████████████████████████████| 207/207 [00:00<00:00, 359kB/s]\n"
     ]
    },
    {
     "name": "stdout",
     "output_type": "stream",
     "text": [
      "Want to drink a kaffee go with me?\n"
     ]
    }
   ],
   "source": [
    "from transformers import AutoTokenizer, AutoModelForSeq2SeqLM\n",
    "\n",
    "tokenizer = AutoTokenizer.from_pretrained(\"google/bert2bert_L-24_wmt_de_en\", pad_token=\"<pad>\", eos_token=\"</s>\", bos_token=\"<s>\")\n",
    "model = AutoModelForSeq2SeqLM.from_pretrained(\"google/bert2bert_L-24_wmt_de_en\")\n",
    "\n",
    "sentence = \"Willst du einen Kaffee trinken gehen mit mir?\"\n",
    "\n",
    "input_ids = tokenizer(sentence, return_tensors=\"pt\", add_special_tokens=False).input_ids\n",
    "output_ids = model.generate(input_ids)[0]\n",
    "print(tokenizer.decode(output_ids, skip_special_tokens=True))\n",
    "# should output\n",
    "# Want to drink a kaffee go with me? .\n"
   ]
  },
  {
   "cell_type": "code",
   "execution_count": null,
   "id": "f8629c42-23f5-4f6b-9795-9d6058fb45fe",
   "metadata": {},
   "outputs": [],
   "source": []
  },
  {
   "cell_type": "code",
   "execution_count": null,
   "id": "3941c9f0-6233-4041-8023-40088b8165c7",
   "metadata": {},
   "outputs": [],
   "source": []
  }
 ],
 "metadata": {
  "kernelspec": {
   "display_name": "Python 3 (ipykernel)",
   "language": "python",
   "name": "python3"
  },
  "language_info": {
   "codemirror_mode": {
    "name": "ipython",
    "version": 3
   },
   "file_extension": ".py",
   "mimetype": "text/x-python",
   "name": "python",
   "nbconvert_exporter": "python",
   "pygments_lexer": "ipython3",
   "version": "3.11.7"
  }
 },
 "nbformat": 4,
 "nbformat_minor": 5
}
